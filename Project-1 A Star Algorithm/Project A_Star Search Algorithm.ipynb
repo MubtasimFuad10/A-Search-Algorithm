{
 "cells": [
  {
   "cell_type": "markdown",
   "id": "54edc959-4cee-4795-9d17-31e9b70a9cd1",
   "metadata": {
    "id": "54edc959-4cee-4795-9d17-31e9b70a9cd1"
   },
   "source": [
    "# *Report*"
   ]
  },
  {
   "cell_type": "markdown",
   "id": "d76f253f-02bf-458b-b70b-355e003ec623",
   "metadata": {
    "id": "d76f253f-02bf-458b-b70b-355e003ec623"
   },
   "source": [
    "<table>\n",
    "    <tr>\n",
    "        <td> Topic: A Star Search Algorithm</td>\n",
    "    </tr>\n",
    "    <tr>\n",
    "        <td>Submitted By: </td>\n",
    "        <td>Md. Mubtasim Fuad</td>\n",
    "    </tr>\n",
    "    <tr>\n",
    "        <td>Submitted To: </td>\n",
    "        <td>Dr. Nasima Begum</td>\n",
    "    </tr>\n",
    "</table>"
   ]
  },
  {
   "cell_type": "markdown",
   "id": "1f49a839-25c1-44d7-a6f7-45b909de87b9",
   "metadata": {
    "id": "1f49a839-25c1-44d7-a6f7-45b909de87b9"
   },
   "source": [
    "# *Introduction:*\n",
    "Popular path-finding algorithms like the A* search algorithm are used often in computer science and artificial intelligence. It is a kind of informed search algorithm that combines the advantages of Greedy Best-First-Search with Dijkstra's algorithm. I'll utilize the A* search method to determine the shortest route from my house to UAP for this assignment. I'll utilize a graph dataset containing place names, latitudes, and longitudes connected by edges, where each edge denotes a route from site A to location B.\n"
   ]
  },
  {
   "cell_type": "markdown",
   "id": "0f619d13-2973-43ce-b11b-e5dbeea45f0b",
   "metadata": {
    "id": "0f619d13-2973-43ce-b11b-e5dbeea45f0b"
   },
   "source": [
    "##### Importing Necessary Packages"
   ]
  },
  {
   "cell_type": "code",
   "execution_count": 1,
   "id": "0fe90516",
   "metadata": {
    "colab": {
     "base_uri": "https://localhost:8080/"
    },
    "id": "0fe90516",
    "outputId": "27904560-263c-4ccf-a016-ad2fcdca9f00"
   },
   "outputs": [
    {
     "name": "stdout",
     "output_type": "stream",
     "text": [
      "Requirement already satisfied: pandas in c:\\users\\mfttu\\anaconda3\\lib\\site-packages (1.4.2)\n",
      "Requirement already satisfied: python-dateutil>=2.8.1 in c:\\users\\mfttu\\anaconda3\\lib\\site-packages (from pandas) (2.8.2)\n",
      "Requirement already satisfied: pytz>=2020.1 in c:\\users\\mfttu\\anaconda3\\lib\\site-packages (from pandas) (2021.3)\n",
      "Requirement already satisfied: numpy>=1.18.5 in c:\\users\\mfttu\\anaconda3\\lib\\site-packages (from pandas) (1.21.0)\n",
      "Requirement already satisfied: six>=1.5 in c:\\users\\mfttu\\anaconda3\\lib\\site-packages (from python-dateutil>=2.8.1->pandas) (1.16.0)\n",
      "Requirement already satisfied: haversine in c:\\users\\mfttu\\anaconda3\\lib\\site-packages (2.8.0)\n",
      "Requirement already satisfied: folium in c:\\users\\mfttu\\anaconda3\\lib\\site-packages (0.13.0)\n",
      "Requirement already satisfied: numpy in c:\\users\\mfttu\\anaconda3\\lib\\site-packages (from folium) (1.21.0)\n",
      "Requirement already satisfied: branca>=0.3.0 in c:\\users\\mfttu\\anaconda3\\lib\\site-packages (from folium) (0.5.0)\n",
      "Requirement already satisfied: jinja2>=2.9 in c:\\users\\mfttu\\anaconda3\\lib\\site-packages (from folium) (2.11.3)\n",
      "Requirement already satisfied: requests in c:\\users\\mfttu\\anaconda3\\lib\\site-packages (from folium) (2.27.1)\n",
      "Requirement already satisfied: MarkupSafe>=0.23 in c:\\users\\mfttu\\anaconda3\\lib\\site-packages (from jinja2>=2.9->folium) (2.0.1)\n",
      "Requirement already satisfied: urllib3<1.27,>=1.21.1 in c:\\users\\mfttu\\anaconda3\\lib\\site-packages (from requests->folium) (1.26.9)\n",
      "Requirement already satisfied: charset-normalizer~=2.0.0 in c:\\users\\mfttu\\anaconda3\\lib\\site-packages (from requests->folium) (2.0.4)\n",
      "Requirement already satisfied: certifi>=2017.4.17 in c:\\users\\mfttu\\anaconda3\\lib\\site-packages (from requests->folium) (2021.10.8)\n",
      "Requirement already satisfied: idna<4,>=2.5 in c:\\users\\mfttu\\anaconda3\\lib\\site-packages (from requests->folium) (3.3)\n",
      "Requirement already satisfied: networkx in c:\\users\\mfttu\\anaconda3\\lib\\site-packages (2.7.1)\n",
      "Requirement already satisfied: pyvis in c:\\users\\mfttu\\anaconda3\\lib\\site-packages (0.3.2)\n",
      "Requirement already satisfied: jinja2>=2.9.6 in c:\\users\\mfttu\\anaconda3\\lib\\site-packages (from pyvis) (2.11.3)\n",
      "Requirement already satisfied: ipython>=5.3.0 in c:\\users\\mfttu\\anaconda3\\lib\\site-packages (from pyvis) (8.2.0)\n",
      "Requirement already satisfied: jsonpickle>=1.4.1 in c:\\users\\mfttu\\anaconda3\\lib\\site-packages (from pyvis) (3.0.1)\n",
      "Requirement already satisfied: networkx>=1.11 in c:\\users\\mfttu\\anaconda3\\lib\\site-packages (from pyvis) (2.7.1)\n",
      "Requirement already satisfied: prompt-toolkit!=3.0.0,!=3.0.1,<3.1.0,>=2.0.0 in c:\\users\\mfttu\\anaconda3\\lib\\site-packages (from ipython>=5.3.0->pyvis) (3.0.20)\n",
      "Requirement already satisfied: setuptools>=18.5 in c:\\users\\mfttu\\anaconda3\\lib\\site-packages (from ipython>=5.3.0->pyvis) (61.2.0)\n",
      "Requirement already satisfied: decorator in c:\\users\\mfttu\\anaconda3\\lib\\site-packages (from ipython>=5.3.0->pyvis) (5.1.1)\n",
      "Requirement already satisfied: jedi>=0.16 in c:\\users\\mfttu\\anaconda3\\lib\\site-packages (from ipython>=5.3.0->pyvis) (0.18.1)\n",
      "Requirement already satisfied: pickleshare in c:\\users\\mfttu\\anaconda3\\lib\\site-packages (from ipython>=5.3.0->pyvis) (0.7.5)\n",
      "Requirement already satisfied: traitlets>=5 in c:\\users\\mfttu\\anaconda3\\lib\\site-packages (from ipython>=5.3.0->pyvis) (5.1.1)\n",
      "Requirement already satisfied: matplotlib-inline in c:\\users\\mfttu\\anaconda3\\lib\\site-packages (from ipython>=5.3.0->pyvis) (0.1.2)\n",
      "Requirement already satisfied: colorama in c:\\users\\mfttu\\anaconda3\\lib\\site-packages (from ipython>=5.3.0->pyvis) (0.4.4)\n",
      "Requirement already satisfied: backcall in c:\\users\\mfttu\\anaconda3\\lib\\site-packages (from ipython>=5.3.0->pyvis) (0.2.0)\n",
      "Requirement already satisfied: stack-data in c:\\users\\mfttu\\anaconda3\\lib\\site-packages (from ipython>=5.3.0->pyvis) (0.2.0)\n",
      "Requirement already satisfied: pygments>=2.4.0 in c:\\users\\mfttu\\anaconda3\\lib\\site-packages (from ipython>=5.3.0->pyvis) (2.11.2)\n",
      "Requirement already satisfied: parso<0.9.0,>=0.8.0 in c:\\users\\mfttu\\anaconda3\\lib\\site-packages (from jedi>=0.16->ipython>=5.3.0->pyvis) (0.8.3)\n",
      "Requirement already satisfied: MarkupSafe>=0.23 in c:\\users\\mfttu\\anaconda3\\lib\\site-packages (from jinja2>=2.9.6->pyvis) (2.0.1)\n",
      "Requirement already satisfied: wcwidth in c:\\users\\mfttu\\anaconda3\\lib\\site-packages (from prompt-toolkit!=3.0.0,!=3.0.1,<3.1.0,>=2.0.0->ipython>=5.3.0->pyvis) (0.2.5)\n",
      "Requirement already satisfied: asttokens in c:\\users\\mfttu\\anaconda3\\lib\\site-packages (from stack-data->ipython>=5.3.0->pyvis) (2.0.5)\n",
      "Requirement already satisfied: executing in c:\\users\\mfttu\\anaconda3\\lib\\site-packages (from stack-data->ipython>=5.3.0->pyvis) (0.8.3)\n",
      "Requirement already satisfied: pure-eval in c:\\users\\mfttu\\anaconda3\\lib\\site-packages (from stack-data->ipython>=5.3.0->pyvis) (0.2.2)\n",
      "Requirement already satisfied: six in c:\\users\\mfttu\\anaconda3\\lib\\site-packages (from asttokens->stack-data->ipython>=5.3.0->pyvis) (1.16.0)\n"
     ]
    }
   ],
   "source": [
    "!pip install pandas\n",
    "!pip install haversine\n",
    "!pip install folium\n",
    "!pip install networkx\n",
    "!pip install pyvis"
   ]
  },
  {
   "cell_type": "code",
   "execution_count": 2,
   "id": "c0148e68",
   "metadata": {},
   "outputs": [],
   "source": [
    "import math\n",
    "\n",
    "def haversine(coord1, coord2):\n",
    "    earth_radius = 6371  # kilometers\n",
    "    lat1, lon1 = coord1\n",
    "    lat2, lon2 = coord2\n",
    "    phi1 = math.radians(lat1)\n",
    "    phi2 = math.radians(lat2)\n",
    "    delta_phi = math.radians(lat2 - lat1)\n",
    "    delta_lambda = math.radians(lon2 - lon1)\n",
    "\n",
    "    a = math.sin(delta_phi / 2) ** 2 + \\\n",
    "        math.cos(phi1) * math.cos(phi2) * \\\n",
    "        math.sin(delta_lambda / 2) ** 2\n",
    "    c = 2 * math.atan2(math.sqrt(a), math.sqrt(1 - a))\n",
    "\n",
    "    distance = earth_radius * c  \n",
    "    return distance"
   ]
  },
  {
   "cell_type": "code",
   "execution_count": 3,
   "id": "d65979af-7fc7-4ffe-9347-7fb7cf60d37d",
   "metadata": {
    "id": "d65979af-7fc7-4ffe-9347-7fb7cf60d37d"
   },
   "outputs": [],
   "source": [
    "import pandas as pd\n",
    "import folium\n",
    "from folium.features import DivIcon"
   ]
  },
  {
   "cell_type": "markdown",
   "id": "ad53bf72-0537-4bf1-8451-1bda227d1ac6",
   "metadata": {
    "id": "ad53bf72-0537-4bf1-8451-1bda227d1ac6"
   },
   "source": [
    "##### Importing our location data which contains location Location_Name,Latitude and Longitude."
   ]
  },
  {
   "cell_type": "code",
   "execution_count": 4,
   "id": "a90eab38-2f29-4a89-9e6d-1ec4cb240d1b",
   "metadata": {
    "id": "a90eab38-2f29-4a89-9e6d-1ec4cb240d1b"
   },
   "outputs": [],
   "source": [
    "location_data=pd.read_csv('./location_area.csv')"
   ]
  },
  {
   "cell_type": "markdown",
   "id": "02093eb0-14a5-43a2-b904-34393b7fb24e",
   "metadata": {
    "id": "02093eb0-14a5-43a2-b904-34393b7fb24e"
   },
   "source": [
    "##### Location Dataset"
   ]
  },
  {
   "cell_type": "code",
   "execution_count": 5,
   "id": "76897bcd-1480-4495-9413-e8cd4c4045c5",
   "metadata": {
    "colab": {
     "base_uri": "https://localhost:8080/",
     "height": 582
    },
    "id": "76897bcd-1480-4495-9413-e8cd4c4045c5",
    "outputId": "bac84b13-2427-4258-e766-4690e4602ece"
   },
   "outputs": [
    {
     "data": {
      "text/html": [
       "<div>\n",
       "<style scoped>\n",
       "    .dataframe tbody tr th:only-of-type {\n",
       "        vertical-align: middle;\n",
       "    }\n",
       "\n",
       "    .dataframe tbody tr th {\n",
       "        vertical-align: top;\n",
       "    }\n",
       "\n",
       "    .dataframe thead th {\n",
       "        text-align: right;\n",
       "    }\n",
       "</style>\n",
       "<table border=\"1\" class=\"dataframe\">\n",
       "  <thead>\n",
       "    <tr style=\"text-align: right;\">\n",
       "      <th></th>\n",
       "      <th>Location</th>\n",
       "      <th>Latitude</th>\n",
       "      <th>Longitude</th>\n",
       "    </tr>\n",
       "  </thead>\n",
       "  <tbody>\n",
       "    <tr>\n",
       "      <th>0</th>\n",
       "      <td>Organ Lily</td>\n",
       "      <td>23.798547</td>\n",
       "      <td>90.370238</td>\n",
       "    </tr>\n",
       "    <tr>\n",
       "      <th>1</th>\n",
       "      <td>Shewrapara</td>\n",
       "      <td>23.789499</td>\n",
       "      <td>90.376024</td>\n",
       "    </tr>\n",
       "    <tr>\n",
       "      <th>2</th>\n",
       "      <td>Agargaon</td>\n",
       "      <td>23.778539</td>\n",
       "      <td>90.380004</td>\n",
       "    </tr>\n",
       "    <tr>\n",
       "      <th>3</th>\n",
       "      <td>Chandrima Uddan</td>\n",
       "      <td>23.765273</td>\n",
       "      <td>90.383162</td>\n",
       "    </tr>\n",
       "    <tr>\n",
       "      <th>4</th>\n",
       "      <td>Khamar Bari</td>\n",
       "      <td>23.758967</td>\n",
       "      <td>90.383925</td>\n",
       "    </tr>\n",
       "    <tr>\n",
       "      <th>5</th>\n",
       "      <td>Bijoy Sarani</td>\n",
       "      <td>23.764370</td>\n",
       "      <td>90.388905</td>\n",
       "    </tr>\n",
       "    <tr>\n",
       "      <th>6</th>\n",
       "      <td>Farmgate</td>\n",
       "      <td>23.757688</td>\n",
       "      <td>90.390176</td>\n",
       "    </tr>\n",
       "    <tr>\n",
       "      <th>7</th>\n",
       "      <td>Kamal Sarani</td>\n",
       "      <td>23.786766</td>\n",
       "      <td>90.366914</td>\n",
       "    </tr>\n",
       "    <tr>\n",
       "      <th>8</th>\n",
       "      <td>National Museum</td>\n",
       "      <td>23.779784</td>\n",
       "      <td>90.368032</td>\n",
       "    </tr>\n",
       "    <tr>\n",
       "      <th>9</th>\n",
       "      <td>Sher-e-Bangla Road</td>\n",
       "      <td>23.775074</td>\n",
       "      <td>90.374060</td>\n",
       "    </tr>\n",
       "    <tr>\n",
       "      <th>10</th>\n",
       "      <td>University of Asia Pacific</td>\n",
       "      <td>23.754956</td>\n",
       "      <td>90.389039</td>\n",
       "    </tr>\n",
       "  </tbody>\n",
       "</table>\n",
       "</div>"
      ],
      "text/plain": [
       "                      Location   Latitude  Longitude\n",
       "0                   Organ Lily  23.798547  90.370238\n",
       "1                   Shewrapara  23.789499  90.376024\n",
       "2                     Agargaon  23.778539  90.380004\n",
       "3              Chandrima Uddan  23.765273  90.383162\n",
       "4                  Khamar Bari  23.758967  90.383925\n",
       "5                 Bijoy Sarani  23.764370  90.388905\n",
       "6                     Farmgate  23.757688  90.390176\n",
       "7                 Kamal Sarani  23.786766  90.366914\n",
       "8              National Museum  23.779784  90.368032\n",
       "9           Sher-e-Bangla Road  23.775074  90.374060\n",
       "10  University of Asia Pacific  23.754956  90.389039"
      ]
     },
     "execution_count": 5,
     "metadata": {},
     "output_type": "execute_result"
    }
   ],
   "source": [
    "location_data"
   ]
  },
  {
   "cell_type": "code",
   "execution_count": 6,
   "id": "376d70fc-ff4a-43bd-b816-844037e7cd65",
   "metadata": {
    "colab": {
     "base_uri": "https://localhost:8080/"
    },
    "id": "376d70fc-ff4a-43bd-b816-844037e7cd65",
    "outputId": "ec2ba350-2ce4-48c2-b745-06969cae4c76",
    "scrolled": true
   },
   "outputs": [
    {
     "name": "stdout",
     "output_type": "stream",
     "text": [
      "Location     Organ Lily\n",
      "Latitude      23.798547\n",
      "Longitude     90.370238\n",
      "Name: 0, dtype: object\n",
      "\n",
      "\n",
      "Location     University of Asia Pacific\n",
      "Latitude                      23.754956\n",
      "Longitude                     90.389039\n",
      "Name: 10, dtype: object\n"
     ]
    }
   ],
   "source": [
    "source=location_data.iloc[0]\n",
    "goal=location_data.iloc[-1]\n",
    "print(source)\n",
    "print(\"\\n\")\n",
    "print(goal)"
   ]
  },
  {
   "cell_type": "markdown",
   "id": "68eba298-aad3-41c2-b8e3-59c71ec43249",
   "metadata": {
    "id": "68eba298-aad3-41c2-b8e3-59c71ec43249"
   },
   "source": [
    "## MAP\n",
    "##### Lets plot our data using folium library and marker green indicates starting position and red indicates destination"
   ]
  },
  {
   "cell_type": "code",
   "execution_count": 7,
   "id": "7d81b693-6409-4494-82b6-edbc0d8eeab1",
   "metadata": {
    "id": "7d81b693-6409-4494-82b6-edbc0d8eeab1",
    "tags": []
   },
   "outputs": [],
   "source": [
    "location_data_excluded=location_data.iloc[1:location_data.shape[0]-1]"
   ]
  },
  {
   "cell_type": "code",
   "execution_count": 11,
   "id": "294a390e-911a-4abe-a796-33b240a6610e",
   "metadata": {
    "colab": {
     "base_uri": "https://localhost:8080/",
     "height": 1000
    },
    "id": "294a390e-911a-4abe-a796-33b240a6610e",
    "outputId": "2b347062-a716-4921-97e9-20f0f3180e25",
    "tags": []
   },
   "outputs": [
    {
     "data": {
      "text/html": [
       "<div style=\"width:100%;\"><div style=\"position:relative;width:100%;height:0;padding-bottom:60%;\"><span style=\"color:#565656\">Make this Notebook Trusted to load map: File -> Trust Notebook</span><iframe srcdoc=\"&lt;!DOCTYPE html&gt;\n",
       "&lt;head&gt;    \n",
       "    &lt;meta http-equiv=&quot;content-type&quot; content=&quot;text/html; charset=UTF-8&quot; /&gt;\n",
       "    \n",
       "        &lt;script&gt;\n",
       "            L_NO_TOUCH = false;\n",
       "            L_DISABLE_3D = false;\n",
       "        &lt;/script&gt;\n",
       "    \n",
       "    &lt;style&gt;html, body {width: 100%;height: 100%;margin: 0;padding: 0;}&lt;/style&gt;\n",
       "    &lt;style&gt;#map {position:absolute;top:0;bottom:0;right:0;left:0;}&lt;/style&gt;\n",
       "    &lt;script src=&quot;https://cdn.jsdelivr.net/npm/leaflet@1.6.0/dist/leaflet.js&quot;&gt;&lt;/script&gt;\n",
       "    &lt;script src=&quot;https://code.jquery.com/jquery-1.12.4.min.js&quot;&gt;&lt;/script&gt;\n",
       "    &lt;script src=&quot;https://maxcdn.bootstrapcdn.com/bootstrap/3.2.0/js/bootstrap.min.js&quot;&gt;&lt;/script&gt;\n",
       "    &lt;script src=&quot;https://cdnjs.cloudflare.com/ajax/libs/Leaflet.awesome-markers/2.0.2/leaflet.awesome-markers.js&quot;&gt;&lt;/script&gt;\n",
       "    &lt;link rel=&quot;stylesheet&quot; href=&quot;https://cdn.jsdelivr.net/npm/leaflet@1.6.0/dist/leaflet.css&quot;/&gt;\n",
       "    &lt;link rel=&quot;stylesheet&quot; href=&quot;https://maxcdn.bootstrapcdn.com/bootstrap/3.2.0/css/bootstrap.min.css&quot;/&gt;\n",
       "    &lt;link rel=&quot;stylesheet&quot; href=&quot;https://maxcdn.bootstrapcdn.com/bootstrap/3.2.0/css/bootstrap-theme.min.css&quot;/&gt;\n",
       "    &lt;link rel=&quot;stylesheet&quot; href=&quot;https://maxcdn.bootstrapcdn.com/font-awesome/4.6.3/css/font-awesome.min.css&quot;/&gt;\n",
       "    &lt;link rel=&quot;stylesheet&quot; href=&quot;https://cdnjs.cloudflare.com/ajax/libs/Leaflet.awesome-markers/2.0.2/leaflet.awesome-markers.css&quot;/&gt;\n",
       "    &lt;link rel=&quot;stylesheet&quot; href=&quot;https://cdn.jsdelivr.net/gh/python-visualization/folium/folium/templates/leaflet.awesome.rotate.min.css&quot;/&gt;\n",
       "    \n",
       "            &lt;meta name=&quot;viewport&quot; content=&quot;width=device-width,\n",
       "                initial-scale=1.0, maximum-scale=1.0, user-scalable=no&quot; /&gt;\n",
       "            &lt;style&gt;\n",
       "                #map_7e717ad2738cbc7c6b97436be9d87854 {\n",
       "                    position: relative;\n",
       "                    width: 100.0%;\n",
       "                    height: 100.0%;\n",
       "                    left: 0.0%;\n",
       "                    top: 0.0%;\n",
       "                }\n",
       "            &lt;/style&gt;\n",
       "        \n",
       "&lt;/head&gt;\n",
       "&lt;body&gt;    \n",
       "    \n",
       "            &lt;div class=&quot;folium-map&quot; id=&quot;map_7e717ad2738cbc7c6b97436be9d87854&quot; &gt;&lt;/div&gt;\n",
       "        \n",
       "&lt;/body&gt;\n",
       "&lt;script&gt;    \n",
       "    \n",
       "            var map_7e717ad2738cbc7c6b97436be9d87854 = L.map(\n",
       "                &quot;map_7e717ad2738cbc7c6b97436be9d87854&quot;,\n",
       "                {\n",
       "                    center: [23.745268183480682, 90.36089271175031],\n",
       "                    crs: L.CRS.EPSG3857,\n",
       "                    zoom: 12,\n",
       "                    zoomControl: true,\n",
       "                    preferCanvas: false,\n",
       "                }\n",
       "            );\n",
       "\n",
       "            \n",
       "\n",
       "        \n",
       "    \n",
       "            var tile_layer_ea5ae2e2c561db0ace95f0599019c465 = L.tileLayer(\n",
       "                &quot;https://{s}.tile.openstreetmap.org/{z}/{x}/{y}.png&quot;,\n",
       "                {&quot;attribution&quot;: &quot;Data by \\u0026copy; \\u003ca href=\\&quot;http://openstreetmap.org\\&quot;\\u003eOpenStreetMap\\u003c/a\\u003e, under \\u003ca href=\\&quot;http://www.openstreetmap.org/copyright\\&quot;\\u003eODbL\\u003c/a\\u003e.&quot;, &quot;detectRetina&quot;: false, &quot;maxNativeZoom&quot;: 18, &quot;maxZoom&quot;: 18, &quot;minZoom&quot;: 0, &quot;noWrap&quot;: false, &quot;opacity&quot;: 1, &quot;subdomains&quot;: &quot;abc&quot;, &quot;tms&quot;: false}\n",
       "            ).addTo(map_7e717ad2738cbc7c6b97436be9d87854);\n",
       "        \n",
       "    \n",
       "            var marker_77611ab1fa0660c8b82a35f96ecf73f2 = L.marker(\n",
       "                [23.79854733, 90.37023781],\n",
       "                {}\n",
       "            ).addTo(map_7e717ad2738cbc7c6b97436be9d87854);\n",
       "        \n",
       "    \n",
       "            var icon_a3ca017ecc4f1fa29b66bc1f4348d260 = L.AwesomeMarkers.icon(\n",
       "                {&quot;extraClasses&quot;: &quot;fa-rotate-0&quot;, &quot;icon&quot;: &quot;info-sign&quot;, &quot;iconColor&quot;: &quot;white&quot;, &quot;markerColor&quot;: &quot;green&quot;, &quot;prefix&quot;: &quot;glyphicon&quot;}\n",
       "            );\n",
       "            marker_77611ab1fa0660c8b82a35f96ecf73f2.setIcon(icon_a3ca017ecc4f1fa29b66bc1f4348d260);\n",
       "        \n",
       "    \n",
       "        var popup_0a191b489ee67ccd2b30526e4f005557 = L.popup({&quot;maxWidth&quot;: &quot;100%&quot;});\n",
       "\n",
       "        \n",
       "            \n",
       "                var html_50d70d14be57151ec066743a64173dba = $(`&lt;div id=&quot;html_50d70d14be57151ec066743a64173dba&quot; style=&quot;width: 100.0%; height: 100.0%;&quot;&gt;🏘️&lt;/div&gt;`)[0];\n",
       "                popup_0a191b489ee67ccd2b30526e4f005557.setContent(html_50d70d14be57151ec066743a64173dba);\n",
       "            \n",
       "        \n",
       "\n",
       "        marker_77611ab1fa0660c8b82a35f96ecf73f2.bindPopup(popup_0a191b489ee67ccd2b30526e4f005557)\n",
       "        ;\n",
       "\n",
       "        \n",
       "    \n",
       "    \n",
       "            marker_77611ab1fa0660c8b82a35f96ecf73f2.bindTooltip(\n",
       "                `&lt;div&gt;\n",
       "                     Organ Lily\n",
       "                 &lt;/div&gt;`,\n",
       "                {&quot;sticky&quot;: true}\n",
       "            );\n",
       "        \n",
       "    \n",
       "            var marker_3f6df8efdc7f79bc7bbe806552b66306 = L.marker(\n",
       "                [23.75495619, 90.3890392],\n",
       "                {}\n",
       "            ).addTo(map_7e717ad2738cbc7c6b97436be9d87854);\n",
       "        \n",
       "    \n",
       "            var icon_8c67ea8452abbc77092666e8240931f5 = L.AwesomeMarkers.icon(\n",
       "                {&quot;extraClasses&quot;: &quot;fa-rotate-0&quot;, &quot;icon&quot;: &quot;info-sign&quot;, &quot;iconColor&quot;: &quot;white&quot;, &quot;markerColor&quot;: &quot;red&quot;, &quot;prefix&quot;: &quot;glyphicon&quot;}\n",
       "            );\n",
       "            marker_3f6df8efdc7f79bc7bbe806552b66306.setIcon(icon_8c67ea8452abbc77092666e8240931f5);\n",
       "        \n",
       "    \n",
       "        var popup_3d3af21d073e40359cde361b011b14af = L.popup({&quot;maxWidth&quot;: &quot;100%&quot;});\n",
       "\n",
       "        \n",
       "            \n",
       "                var html_6636ad8f7a85846617804995ea258c06 = $(`&lt;div id=&quot;html_6636ad8f7a85846617804995ea258c06&quot; style=&quot;width: 100.0%; height: 100.0%;&quot;&gt;🏢&lt;/div&gt;`)[0];\n",
       "                popup_3d3af21d073e40359cde361b011b14af.setContent(html_6636ad8f7a85846617804995ea258c06);\n",
       "            \n",
       "        \n",
       "\n",
       "        marker_3f6df8efdc7f79bc7bbe806552b66306.bindPopup(popup_3d3af21d073e40359cde361b011b14af)\n",
       "        ;\n",
       "\n",
       "        \n",
       "    \n",
       "    \n",
       "            marker_3f6df8efdc7f79bc7bbe806552b66306.bindTooltip(\n",
       "                `&lt;div&gt;\n",
       "                     University of Asia Pacific\n",
       "                 &lt;/div&gt;`,\n",
       "                {&quot;sticky&quot;: true}\n",
       "            );\n",
       "        \n",
       "    \n",
       "            var marker_dcab3f03ed78647f421da00dae8cf7d8 = L.marker(\n",
       "                [23.7894987935148, 90.37602422433598],\n",
       "                {}\n",
       "            ).addTo(map_7e717ad2738cbc7c6b97436be9d87854);\n",
       "        \n",
       "    \n",
       "        var popup_78e77870584bf9feb9dc8702e0f8cfaf = L.popup({&quot;maxWidth&quot;: &quot;100%&quot;});\n",
       "\n",
       "        \n",
       "            \n",
       "                var html_2d633b34f118fbe747603dddb9f971e0 = $(`&lt;div id=&quot;html_2d633b34f118fbe747603dddb9f971e0&quot; style=&quot;width: 100.0%; height: 100.0%;&quot;&gt;Shewrapara&lt;/div&gt;`)[0];\n",
       "                popup_78e77870584bf9feb9dc8702e0f8cfaf.setContent(html_2d633b34f118fbe747603dddb9f971e0);\n",
       "            \n",
       "        \n",
       "\n",
       "        marker_dcab3f03ed78647f421da00dae8cf7d8.bindPopup(popup_78e77870584bf9feb9dc8702e0f8cfaf)\n",
       "        ;\n",
       "\n",
       "        \n",
       "    \n",
       "    \n",
       "            marker_dcab3f03ed78647f421da00dae8cf7d8.bindTooltip(\n",
       "                `&lt;div&gt;\n",
       "                     Shewrapara\n",
       "                 &lt;/div&gt;`,\n",
       "                {&quot;sticky&quot;: true}\n",
       "            );\n",
       "        \n",
       "    \n",
       "            var marker_89d8214faa2aebb7174b78e0a035014b = L.marker(\n",
       "                [23.77853941, 90.38000406],\n",
       "                {}\n",
       "            ).addTo(map_7e717ad2738cbc7c6b97436be9d87854);\n",
       "        \n",
       "    \n",
       "        var popup_6a0dc258b7f76f359b42e1658247d916 = L.popup({&quot;maxWidth&quot;: &quot;100%&quot;});\n",
       "\n",
       "        \n",
       "            \n",
       "                var html_7af1db6ac4cb0c46ca81990c88146b69 = $(`&lt;div id=&quot;html_7af1db6ac4cb0c46ca81990c88146b69&quot; style=&quot;width: 100.0%; height: 100.0%;&quot;&gt;Agargaon&lt;/div&gt;`)[0];\n",
       "                popup_6a0dc258b7f76f359b42e1658247d916.setContent(html_7af1db6ac4cb0c46ca81990c88146b69);\n",
       "            \n",
       "        \n",
       "\n",
       "        marker_89d8214faa2aebb7174b78e0a035014b.bindPopup(popup_6a0dc258b7f76f359b42e1658247d916)\n",
       "        ;\n",
       "\n",
       "        \n",
       "    \n",
       "    \n",
       "            marker_89d8214faa2aebb7174b78e0a035014b.bindTooltip(\n",
       "                `&lt;div&gt;\n",
       "                     Agargaon\n",
       "                 &lt;/div&gt;`,\n",
       "                {&quot;sticky&quot;: true}\n",
       "            );\n",
       "        \n",
       "    \n",
       "            var marker_9895128324e466141952e005cba97361 = L.marker(\n",
       "                [23.76527255, 90.38316153],\n",
       "                {}\n",
       "            ).addTo(map_7e717ad2738cbc7c6b97436be9d87854);\n",
       "        \n",
       "    \n",
       "        var popup_6095ab3f20e2c0005c5d8295e3fbdf0e = L.popup({&quot;maxWidth&quot;: &quot;100%&quot;});\n",
       "\n",
       "        \n",
       "            \n",
       "                var html_8d4e4ee5860b69d331b098d31d416f96 = $(`&lt;div id=&quot;html_8d4e4ee5860b69d331b098d31d416f96&quot; style=&quot;width: 100.0%; height: 100.0%;&quot;&gt;Chandrima Uddan&lt;/div&gt;`)[0];\n",
       "                popup_6095ab3f20e2c0005c5d8295e3fbdf0e.setContent(html_8d4e4ee5860b69d331b098d31d416f96);\n",
       "            \n",
       "        \n",
       "\n",
       "        marker_9895128324e466141952e005cba97361.bindPopup(popup_6095ab3f20e2c0005c5d8295e3fbdf0e)\n",
       "        ;\n",
       "\n",
       "        \n",
       "    \n",
       "    \n",
       "            marker_9895128324e466141952e005cba97361.bindTooltip(\n",
       "                `&lt;div&gt;\n",
       "                     Chandrima Uddan\n",
       "                 &lt;/div&gt;`,\n",
       "                {&quot;sticky&quot;: true}\n",
       "            );\n",
       "        \n",
       "    \n",
       "            var marker_e255ed78fa14bffcd032a06e02533dc0 = L.marker(\n",
       "                [23.75896726, 90.38392505],\n",
       "                {}\n",
       "            ).addTo(map_7e717ad2738cbc7c6b97436be9d87854);\n",
       "        \n",
       "    \n",
       "        var popup_21eaa2a0c0ce0ab82fc38647660a6fa5 = L.popup({&quot;maxWidth&quot;: &quot;100%&quot;});\n",
       "\n",
       "        \n",
       "            \n",
       "                var html_4e32cc24ca6e2e8dbd8e0ce533b8827a = $(`&lt;div id=&quot;html_4e32cc24ca6e2e8dbd8e0ce533b8827a&quot; style=&quot;width: 100.0%; height: 100.0%;&quot;&gt;Khamar Bari&lt;/div&gt;`)[0];\n",
       "                popup_21eaa2a0c0ce0ab82fc38647660a6fa5.setContent(html_4e32cc24ca6e2e8dbd8e0ce533b8827a);\n",
       "            \n",
       "        \n",
       "\n",
       "        marker_e255ed78fa14bffcd032a06e02533dc0.bindPopup(popup_21eaa2a0c0ce0ab82fc38647660a6fa5)\n",
       "        ;\n",
       "\n",
       "        \n",
       "    \n",
       "    \n",
       "            marker_e255ed78fa14bffcd032a06e02533dc0.bindTooltip(\n",
       "                `&lt;div&gt;\n",
       "                     Khamar Bari\n",
       "                 &lt;/div&gt;`,\n",
       "                {&quot;sticky&quot;: true}\n",
       "            );\n",
       "        \n",
       "    \n",
       "            var marker_adbfb525b2dcc02b4229e5b7d8ec6939 = L.marker(\n",
       "                [23.76436995, 90.38890505],\n",
       "                {}\n",
       "            ).addTo(map_7e717ad2738cbc7c6b97436be9d87854);\n",
       "        \n",
       "    \n",
       "        var popup_edef656be7507f8a3fd351c1fb013a7b = L.popup({&quot;maxWidth&quot;: &quot;100%&quot;});\n",
       "\n",
       "        \n",
       "            \n",
       "                var html_7bf087e4d245f64d85b70ae22030bdf6 = $(`&lt;div id=&quot;html_7bf087e4d245f64d85b70ae22030bdf6&quot; style=&quot;width: 100.0%; height: 100.0%;&quot;&gt;Bijoy Sarani&lt;/div&gt;`)[0];\n",
       "                popup_edef656be7507f8a3fd351c1fb013a7b.setContent(html_7bf087e4d245f64d85b70ae22030bdf6);\n",
       "            \n",
       "        \n",
       "\n",
       "        marker_adbfb525b2dcc02b4229e5b7d8ec6939.bindPopup(popup_edef656be7507f8a3fd351c1fb013a7b)\n",
       "        ;\n",
       "\n",
       "        \n",
       "    \n",
       "    \n",
       "            marker_adbfb525b2dcc02b4229e5b7d8ec6939.bindTooltip(\n",
       "                `&lt;div&gt;\n",
       "                     Bijoy Sarani\n",
       "                 &lt;/div&gt;`,\n",
       "                {&quot;sticky&quot;: true}\n",
       "            );\n",
       "        \n",
       "    \n",
       "            var marker_3bfd4ccbb0a0417abd0080cdbb8d5713 = L.marker(\n",
       "                [23.7576877, 90.39017607],\n",
       "                {}\n",
       "            ).addTo(map_7e717ad2738cbc7c6b97436be9d87854);\n",
       "        \n",
       "    \n",
       "        var popup_0203160df88319810c1f9415eafaef8b = L.popup({&quot;maxWidth&quot;: &quot;100%&quot;});\n",
       "\n",
       "        \n",
       "            \n",
       "                var html_efb71659d26ea3d4ead376f1b3772ef5 = $(`&lt;div id=&quot;html_efb71659d26ea3d4ead376f1b3772ef5&quot; style=&quot;width: 100.0%; height: 100.0%;&quot;&gt;Farmgate&lt;/div&gt;`)[0];\n",
       "                popup_0203160df88319810c1f9415eafaef8b.setContent(html_efb71659d26ea3d4ead376f1b3772ef5);\n",
       "            \n",
       "        \n",
       "\n",
       "        marker_3bfd4ccbb0a0417abd0080cdbb8d5713.bindPopup(popup_0203160df88319810c1f9415eafaef8b)\n",
       "        ;\n",
       "\n",
       "        \n",
       "    \n",
       "    \n",
       "            marker_3bfd4ccbb0a0417abd0080cdbb8d5713.bindTooltip(\n",
       "                `&lt;div&gt;\n",
       "                     Farmgate\n",
       "                 &lt;/div&gt;`,\n",
       "                {&quot;sticky&quot;: true}\n",
       "            );\n",
       "        \n",
       "    \n",
       "            var marker_df352437b5ef1164aea9fc702a8fbeb4 = L.marker(\n",
       "                [23.78676649, 90.36691438],\n",
       "                {}\n",
       "            ).addTo(map_7e717ad2738cbc7c6b97436be9d87854);\n",
       "        \n",
       "    \n",
       "        var popup_c9a4650de0b1f5136dcbeeedd4f96c4b = L.popup({&quot;maxWidth&quot;: &quot;100%&quot;});\n",
       "\n",
       "        \n",
       "            \n",
       "                var html_797b386d9f6a4e872e275bee7f420e49 = $(`&lt;div id=&quot;html_797b386d9f6a4e872e275bee7f420e49&quot; style=&quot;width: 100.0%; height: 100.0%;&quot;&gt;Kamal Sarani&lt;/div&gt;`)[0];\n",
       "                popup_c9a4650de0b1f5136dcbeeedd4f96c4b.setContent(html_797b386d9f6a4e872e275bee7f420e49);\n",
       "            \n",
       "        \n",
       "\n",
       "        marker_df352437b5ef1164aea9fc702a8fbeb4.bindPopup(popup_c9a4650de0b1f5136dcbeeedd4f96c4b)\n",
       "        ;\n",
       "\n",
       "        \n",
       "    \n",
       "    \n",
       "            marker_df352437b5ef1164aea9fc702a8fbeb4.bindTooltip(\n",
       "                `&lt;div&gt;\n",
       "                     Kamal Sarani\n",
       "                 &lt;/div&gt;`,\n",
       "                {&quot;sticky&quot;: true}\n",
       "            );\n",
       "        \n",
       "    \n",
       "            var marker_ceedcf0c0261593f6a9f249da8f37460 = L.marker(\n",
       "                [23.77978375, 90.36803178],\n",
       "                {}\n",
       "            ).addTo(map_7e717ad2738cbc7c6b97436be9d87854);\n",
       "        \n",
       "    \n",
       "        var popup_f3d79e98a06fe437a427448111adbbc3 = L.popup({&quot;maxWidth&quot;: &quot;100%&quot;});\n",
       "\n",
       "        \n",
       "            \n",
       "                var html_30c80d76bdb2459dd424bcedf0489a8a = $(`&lt;div id=&quot;html_30c80d76bdb2459dd424bcedf0489a8a&quot; style=&quot;width: 100.0%; height: 100.0%;&quot;&gt;National Museum&lt;/div&gt;`)[0];\n",
       "                popup_f3d79e98a06fe437a427448111adbbc3.setContent(html_30c80d76bdb2459dd424bcedf0489a8a);\n",
       "            \n",
       "        \n",
       "\n",
       "        marker_ceedcf0c0261593f6a9f249da8f37460.bindPopup(popup_f3d79e98a06fe437a427448111adbbc3)\n",
       "        ;\n",
       "\n",
       "        \n",
       "    \n",
       "    \n",
       "            marker_ceedcf0c0261593f6a9f249da8f37460.bindTooltip(\n",
       "                `&lt;div&gt;\n",
       "                     National Museum\n",
       "                 &lt;/div&gt;`,\n",
       "                {&quot;sticky&quot;: true}\n",
       "            );\n",
       "        \n",
       "    \n",
       "            var marker_ef6b350412b9fe8090df102facc18ba2 = L.marker(\n",
       "                [23.77507395, 90.37406008],\n",
       "                {}\n",
       "            ).addTo(map_7e717ad2738cbc7c6b97436be9d87854);\n",
       "        \n",
       "    \n",
       "        var popup_bfc3e5ab5a7ec5f889a8ecc1ce3a835c = L.popup({&quot;maxWidth&quot;: &quot;100%&quot;});\n",
       "\n",
       "        \n",
       "            \n",
       "                var html_6a90bff83068de84d197575be834d8e0 = $(`&lt;div id=&quot;html_6a90bff83068de84d197575be834d8e0&quot; style=&quot;width: 100.0%; height: 100.0%;&quot;&gt;Sher-e-Bangla Road&lt;/div&gt;`)[0];\n",
       "                popup_bfc3e5ab5a7ec5f889a8ecc1ce3a835c.setContent(html_6a90bff83068de84d197575be834d8e0);\n",
       "            \n",
       "        \n",
       "\n",
       "        marker_ef6b350412b9fe8090df102facc18ba2.bindPopup(popup_bfc3e5ab5a7ec5f889a8ecc1ce3a835c)\n",
       "        ;\n",
       "\n",
       "        \n",
       "    \n",
       "    \n",
       "            marker_ef6b350412b9fe8090df102facc18ba2.bindTooltip(\n",
       "                `&lt;div&gt;\n",
       "                     Sher-e-Bangla Road\n",
       "                 &lt;/div&gt;`,\n",
       "                {&quot;sticky&quot;: true}\n",
       "            );\n",
       "        \n",
       "&lt;/script&gt;\" style=\"position:absolute;width:100%;height:100%;left:0;top:0;border:none !important;\" allowfullscreen webkitallowfullscreen mozallowfullscreen></iframe></div></div>"
      ],
      "text/plain": [
       "<folium.folium.Map at 0x22dbc108460>"
      ]
     },
     "execution_count": 11,
     "metadata": {},
     "output_type": "execute_result"
    }
   ],
   "source": [
    "m = folium.Map(location=[23.745268183480682,90.36089271175031], zoom_start=12, tiles=\"OpenStreetMap\")\n",
    "\n",
    "points=[]\n",
    "\n",
    "folium.Marker(\n",
    "            [source[1],source[2]], popup=\"🏘️\", tooltip=source[0],\n",
    "            icon=folium.Icon(color='green')).add_to(m)\n",
    "\n",
    "folium.Marker(\n",
    "            [goal[1],goal[2]], popup=\"🏢\", tooltip=goal[0],\n",
    "            icon=folium.Icon(color='red')).add_to(m)\n",
    "\n",
    "\n",
    "\n",
    "for i in range(0,location_data_excluded.shape[0]):\n",
    "        folium.Marker(\n",
    "            [location_data_excluded.iloc[i][1],location_data_excluded.iloc[i][2]], popup=location_data_excluded.iloc[i][0], tooltip=location_data_excluded.iloc[i][0]\n",
    "        ).add_to(m)\n",
    "          \n",
    "m\n",
    "\n"
   ]
  },
  {
   "cell_type": "markdown",
   "id": "302a2d40-4314-48fb-9560-921da6c6688f",
   "metadata": {
    "id": "302a2d40-4314-48fb-9560-921da6c6688f"
   },
   "source": [
    "##### Importing our location graph dataset"
   ]
  },
  {
   "cell_type": "code",
   "execution_count": 12,
   "id": "9ac1a7cd-4244-480d-b3cd-0e7d366885e7",
   "metadata": {
    "id": "9ac1a7cd-4244-480d-b3cd-0e7d366885e7"
   },
   "outputs": [],
   "source": [
    "location_graph=pd.read_csv('./location_graph.csv')"
   ]
  },
  {
   "cell_type": "code",
   "execution_count": 13,
   "id": "54a36b2d-49d6-47e4-b6c7-6e45dd689238",
   "metadata": {
    "id": "54a36b2d-49d6-47e4-b6c7-6e45dd689238",
    "tags": []
   },
   "outputs": [],
   "source": [
    "graph=dict()\n",
    "path_costs=[]\n",
    "for i in range(0,location_graph.shape[0]):\n",
    "    loc_1=location_data[location_data['Location']==location_graph.iloc[i][0]].values.tolist()\n",
    "    loc_2=location_data[location_data['Location']==location_graph.iloc[i][1]].values.tolist()\n",
    "    if len(loc_1)>0 and len(loc_2)>0:\n",
    "        loc_1_name=loc_1[0][0]\n",
    "        loc_2_name=loc_2[0][0]\n",
    "        loc_1=loc_1[0][1:]\n",
    "        loc_2=loc_2[0][1:]\n",
    "        path_cost=haversine(loc_1, loc_2)\n",
    "        if loc_1_name in graph:\n",
    "            graph[loc_1_name].append((loc_2_name,path_cost))\n",
    "            path_costs.append(path_cost)\n",
    "        else:\n",
    "            graph[loc_1_name]=[(loc_2_name,path_cost)]\n",
    "            path_costs.append(path_cost)"
   ]
  },
  {
   "cell_type": "code",
   "execution_count": 14,
   "id": "8edeaaac-eecd-4127-8ac1-c0bcdde9eaa3",
   "metadata": {
    "colab": {
     "base_uri": "https://localhost:8080/",
     "height": 582
    },
    "id": "8edeaaac-eecd-4127-8ac1-c0bcdde9eaa3",
    "outputId": "7356bc20-5546-437e-e162-5b5527a5b9f7",
    "tags": []
   },
   "outputs": [
    {
     "data": {
      "text/html": [
       "<div>\n",
       "<style scoped>\n",
       "    .dataframe tbody tr th:only-of-type {\n",
       "        vertical-align: middle;\n",
       "    }\n",
       "\n",
       "    .dataframe tbody tr th {\n",
       "        vertical-align: top;\n",
       "    }\n",
       "\n",
       "    .dataframe thead th {\n",
       "        text-align: right;\n",
       "    }\n",
       "</style>\n",
       "<table border=\"1\" class=\"dataframe\">\n",
       "  <thead>\n",
       "    <tr style=\"text-align: right;\">\n",
       "      <th></th>\n",
       "      <th>Location_A</th>\n",
       "      <th>Location_B</th>\n",
       "      <th>Path Cost(KM)</th>\n",
       "    </tr>\n",
       "  </thead>\n",
       "  <tbody>\n",
       "    <tr>\n",
       "      <th>0</th>\n",
       "      <td>Organ Lily</td>\n",
       "      <td>Shewrapara</td>\n",
       "      <td>1.165738</td>\n",
       "    </tr>\n",
       "    <tr>\n",
       "      <th>1</th>\n",
       "      <td>Organ Lily</td>\n",
       "      <td>Kamal Sarani</td>\n",
       "      <td>1.352908</td>\n",
       "    </tr>\n",
       "    <tr>\n",
       "      <th>2</th>\n",
       "      <td>Shewrapara</td>\n",
       "      <td>Agargaon</td>\n",
       "      <td>1.284150</td>\n",
       "    </tr>\n",
       "    <tr>\n",
       "      <th>3</th>\n",
       "      <td>Agargaon</td>\n",
       "      <td>Chandrima Uddan</td>\n",
       "      <td>1.509793</td>\n",
       "    </tr>\n",
       "    <tr>\n",
       "      <th>4</th>\n",
       "      <td>Chandrima Uddan</td>\n",
       "      <td>Khamar Bari</td>\n",
       "      <td>0.705409</td>\n",
       "    </tr>\n",
       "    <tr>\n",
       "      <th>5</th>\n",
       "      <td>Chandrima Uddan</td>\n",
       "      <td>Bijoy Sarani</td>\n",
       "      <td>0.593052</td>\n",
       "    </tr>\n",
       "    <tr>\n",
       "      <th>6</th>\n",
       "      <td>Khamar Bari</td>\n",
       "      <td>Farmgate</td>\n",
       "      <td>0.651892</td>\n",
       "    </tr>\n",
       "    <tr>\n",
       "      <th>7</th>\n",
       "      <td>Bijoy Sarani</td>\n",
       "      <td>Farmgate</td>\n",
       "      <td>0.754207</td>\n",
       "    </tr>\n",
       "    <tr>\n",
       "      <th>8</th>\n",
       "      <td>Farmgate</td>\n",
       "      <td>University of Asia Pacific</td>\n",
       "      <td>0.325022</td>\n",
       "    </tr>\n",
       "    <tr>\n",
       "      <th>9</th>\n",
       "      <td>Kamal Sarani</td>\n",
       "      <td>National Museum</td>\n",
       "      <td>0.784726</td>\n",
       "    </tr>\n",
       "    <tr>\n",
       "      <th>10</th>\n",
       "      <td>National Museum</td>\n",
       "      <td>Sher-e-Bangla Road</td>\n",
       "      <td>0.806567</td>\n",
       "    </tr>\n",
       "    <tr>\n",
       "      <th>11</th>\n",
       "      <td>Sher-e-Bangla Road</td>\n",
       "      <td>Chandrima Uddan</td>\n",
       "      <td>1.430253</td>\n",
       "    </tr>\n",
       "  </tbody>\n",
       "</table>\n",
       "</div>"
      ],
      "text/plain": [
       "            Location_A                  Location_B  Path Cost(KM)\n",
       "0           Organ Lily                  Shewrapara       1.165738\n",
       "1           Organ Lily                Kamal Sarani       1.352908\n",
       "2           Shewrapara                    Agargaon       1.284150\n",
       "3             Agargaon             Chandrima Uddan       1.509793\n",
       "4      Chandrima Uddan                 Khamar Bari       0.705409\n",
       "5      Chandrima Uddan                Bijoy Sarani       0.593052\n",
       "6          Khamar Bari                    Farmgate       0.651892\n",
       "7         Bijoy Sarani                    Farmgate       0.754207\n",
       "8             Farmgate  University of Asia Pacific       0.325022\n",
       "9         Kamal Sarani             National Museum       0.784726\n",
       "10     National Museum          Sher-e-Bangla Road       0.806567\n",
       "11  Sher-e-Bangla Road             Chandrima Uddan       1.430253"
      ]
     },
     "execution_count": 14,
     "metadata": {},
     "output_type": "execute_result"
    }
   ],
   "source": [
    "location_graph[\"Path Cost(KM)\"]=path_costs\n",
    "location_graph.to_csv('./location_map.csv')\n",
    "location_graph"
   ]
  },
  {
   "cell_type": "markdown",
   "id": "b2217f0f-c0b2-41b0-8111-5665cacb9cf2",
   "metadata": {
    "id": "b2217f0f-c0b2-41b0-8111-5665cacb9cf2"
   },
   "source": [
    "# *Heuristic Function:*\n",
    "In A* search, a heuristic function is used to estimate the distance or cost from the current node to the goal node. This heuristic function is denoted by h(n) and is defined as:\n",
    "\n",
    "h(n) = estimated cost from node n to the goal node\n",
    "\n",
    "***Equirectangular Approximation as Heuristic function:***\n",
    "The equirectangular approximation is a simple method for approximating the distance between two points on the surface of a sphere, such as the Earth. It is based on the assumption that the surface of the sphere can be projected onto a flat, rectangular plane in a way that preserves the relative distances between points.\n",
    "\n",
    "\\begin{align*}\n",
    "x &= \\Delta\\lambda \\cdot \\cos \\phi_m \\\n",
    "y &= \\Delta\\phi \\\n",
    "d &= R \\cdot \\sqrt{x^2 + y^2}\n",
    "\\end{align*}\n",
    "\n",
    "where:\n",
    "- $x$ is the east-west distance between two points on the surface of a sphere, in units of length (e.g., meters, kilometers, miles).\n",
    "- $y$ is the north-south distance between two points on the surface of a sphere, in units of length.\n",
    "- $d$ is the great-circle distance between two points on the surface of a sphere, in units of length.\n",
    "- $\\Delta\\lambda$ is the difference in longitude between two points, in radians.\n",
    "- $\\phi_m$ is the average latitude between two points, in radians.\n",
    "- $\\Delta\\phi$ is the difference in latitude between two points, in radians.\n",
    "- $R$ is the radius of the sphere, in units of length.\n",
    "\n",
    "In this projection, the latitude and longitude coordinates of each point are mapped to their respective x and y coordinates on the plane, with the x-axis representing the longitude and the y-axis representing the latitude. The distance between two points on the plane can then be calculated using the Pythagorean theorem:\n",
    "\n",
    "To use this formula as a heuristic function in A* search, we would need to calculate the distance between the current node and the goal node using the above formula, where the current node's latitude and longitude would be used for lat1 and lon1, and the goal node's latitude and longitude would be used for lat2 and lon2. This distance value would then be used as the estimated cost from the current node to the goal node.\n",
    "\n",
    "While the equirectangular approximation is computationally simple and fast, it does have limitations. One major limitation is that it becomes less accurate as the distance between the two points increases, particularly at higher latitudes. This is because the projection stretches the distances in the east-west direction as the latitude increases, leading to distortions in the distances*"
   ]
  },
  {
   "cell_type": "code",
   "execution_count": 15,
   "id": "QRc3YEKx24lI",
   "metadata": {
    "id": "QRc3YEKx24lI"
   },
   "outputs": [],
   "source": [
    "import math\n",
    "\n",
    "def equirectangular_approximation(loc_1, loc_2):\n",
    "    R = 6371 # radius of the Earth in kilometers\n",
    "    lat1=loc_1[0]\n",
    "    lat2=loc_2[0]\n",
    "    lon1 = loc_1[1]\n",
    "    lon2 = loc_2[1] \n",
    "\n",
    "    phi1 = lat1 * math.pi / 180\n",
    "    phi2 = lat2 * math.pi / 180\n",
    "    delta_phi = (lat2 - lat1) * math.pi / 180\n",
    "    delta_lambda = (lon2 - lon1) * math.pi / 180\n",
    "    \n",
    "    a = math.sin(delta_phi / 2) ** 2 + math.cos(phi1) * math.cos(phi2) * math.sin(delta_lambda / 2) ** 2\n",
    "    c = 2 * math.atan2(math.sqrt(a), math.sqrt(1 - a))\n",
    "    d = R * c\n",
    "    \n",
    "    return d\n"
   ]
  },
  {
   "cell_type": "markdown",
   "id": "06c8dc18-40a6-4897-aef1-7f7f641e0268",
   "metadata": {
    "id": "06c8dc18-40a6-4897-aef1-7f7f641e0268"
   },
   "source": [
    "#### *Adding the above heurisitic function to our dataset*\n"
   ]
  },
  {
   "cell_type": "code",
   "execution_count": 16,
   "id": "73c49971-bfdc-41e2-b2b3-6eb985a91c54",
   "metadata": {
    "id": "73c49971-bfdc-41e2-b2b3-6eb985a91c54"
   },
   "outputs": [],
   "source": [
    "heuristics =dict()\n",
    "goal_loc=(float(goal[1]),float(goal[2]))\n",
    "hs=[]\n",
    "for i in range(0,location_data.shape[0]):\n",
    "    hs.append(equirectangular_approximation(goal_loc,(float(location_data.iloc[i][1]),float(location_data.iloc[i][2]))))\n",
    "    heuristics[location_data.iloc[i][0]]=hs[-1]"
   ]
  },
  {
   "cell_type": "markdown",
   "id": "57abc062-d29b-4937-8e20-03f61bc460f9",
   "metadata": {
    "id": "57abc062-d29b-4937-8e20-03f61bc460f9"
   },
   "source": [
    "#### *Dataset with heurisitics values*"
   ]
  },
  {
   "cell_type": "code",
   "execution_count": 17,
   "id": "380cc7af-6edd-4ce4-a80b-3330eab7ed60",
   "metadata": {
    "colab": {
     "base_uri": "https://localhost:8080/",
     "height": 582
    },
    "id": "380cc7af-6edd-4ce4-a80b-3330eab7ed60",
    "outputId": "53317049-5e26-448c-d517-d571400d4dbc"
   },
   "outputs": [
    {
     "data": {
      "text/html": [
       "<div>\n",
       "<style scoped>\n",
       "    .dataframe tbody tr th:only-of-type {\n",
       "        vertical-align: middle;\n",
       "    }\n",
       "\n",
       "    .dataframe tbody tr th {\n",
       "        vertical-align: top;\n",
       "    }\n",
       "\n",
       "    .dataframe thead th {\n",
       "        text-align: right;\n",
       "    }\n",
       "</style>\n",
       "<table border=\"1\" class=\"dataframe\">\n",
       "  <thead>\n",
       "    <tr style=\"text-align: right;\">\n",
       "      <th></th>\n",
       "      <th>Location</th>\n",
       "      <th>Latitude</th>\n",
       "      <th>Longitude</th>\n",
       "      <th>heurisitics</th>\n",
       "    </tr>\n",
       "  </thead>\n",
       "  <tbody>\n",
       "    <tr>\n",
       "      <th>0</th>\n",
       "      <td>Organ Lily</td>\n",
       "      <td>23.798547</td>\n",
       "      <td>90.370238</td>\n",
       "      <td>5.211022</td>\n",
       "    </tr>\n",
       "    <tr>\n",
       "      <th>1</th>\n",
       "      <td>Shewrapara</td>\n",
       "      <td>23.789499</td>\n",
       "      <td>90.376024</td>\n",
       "      <td>4.062888</td>\n",
       "    </tr>\n",
       "    <tr>\n",
       "      <th>2</th>\n",
       "      <td>Agargaon</td>\n",
       "      <td>23.778539</td>\n",
       "      <td>90.380004</td>\n",
       "      <td>2.778857</td>\n",
       "    </tr>\n",
       "    <tr>\n",
       "      <th>3</th>\n",
       "      <td>Chandrima Uddan</td>\n",
       "      <td>23.765273</td>\n",
       "      <td>90.383162</td>\n",
       "      <td>1.293719</td>\n",
       "    </tr>\n",
       "    <tr>\n",
       "      <th>4</th>\n",
       "      <td>Khamar Bari</td>\n",
       "      <td>23.758967</td>\n",
       "      <td>90.383925</td>\n",
       "      <td>0.685438</td>\n",
       "    </tr>\n",
       "    <tr>\n",
       "      <th>5</th>\n",
       "      <td>Bijoy Sarani</td>\n",
       "      <td>23.764370</td>\n",
       "      <td>90.388905</td>\n",
       "      <td>1.046851</td>\n",
       "    </tr>\n",
       "    <tr>\n",
       "      <th>6</th>\n",
       "      <td>Farmgate</td>\n",
       "      <td>23.757688</td>\n",
       "      <td>90.390176</td>\n",
       "      <td>0.325022</td>\n",
       "    </tr>\n",
       "    <tr>\n",
       "      <th>7</th>\n",
       "      <td>Kamal Sarani</td>\n",
       "      <td>23.786766</td>\n",
       "      <td>90.366914</td>\n",
       "      <td>4.192905</td>\n",
       "    </tr>\n",
       "    <tr>\n",
       "      <th>8</th>\n",
       "      <td>National Museum</td>\n",
       "      <td>23.779784</td>\n",
       "      <td>90.368032</td>\n",
       "      <td>3.491659</td>\n",
       "    </tr>\n",
       "    <tr>\n",
       "      <th>9</th>\n",
       "      <td>Sher-e-Bangla Road</td>\n",
       "      <td>23.775074</td>\n",
       "      <td>90.374060</td>\n",
       "      <td>2.706998</td>\n",
       "    </tr>\n",
       "    <tr>\n",
       "      <th>10</th>\n",
       "      <td>University of Asia Pacific</td>\n",
       "      <td>23.754956</td>\n",
       "      <td>90.389039</td>\n",
       "      <td>0.000000</td>\n",
       "    </tr>\n",
       "  </tbody>\n",
       "</table>\n",
       "</div>"
      ],
      "text/plain": [
       "                      Location   Latitude  Longitude  heurisitics\n",
       "0                   Organ Lily  23.798547  90.370238     5.211022\n",
       "1                   Shewrapara  23.789499  90.376024     4.062888\n",
       "2                     Agargaon  23.778539  90.380004     2.778857\n",
       "3              Chandrima Uddan  23.765273  90.383162     1.293719\n",
       "4                  Khamar Bari  23.758967  90.383925     0.685438\n",
       "5                 Bijoy Sarani  23.764370  90.388905     1.046851\n",
       "6                     Farmgate  23.757688  90.390176     0.325022\n",
       "7                 Kamal Sarani  23.786766  90.366914     4.192905\n",
       "8              National Museum  23.779784  90.368032     3.491659\n",
       "9           Sher-e-Bangla Road  23.775074  90.374060     2.706998\n",
       "10  University of Asia Pacific  23.754956  90.389039     0.000000"
      ]
     },
     "execution_count": 17,
     "metadata": {},
     "output_type": "execute_result"
    }
   ],
   "source": [
    "location_data[\"heurisitics\"]=hs\n",
    "location_data"
   ]
  },
  {
   "cell_type": "markdown",
   "id": "2f060e4f-ceec-41a8-9297-c0eb8138d9ba",
   "metadata": {
    "id": "2f060e4f-ceec-41a8-9297-c0eb8138d9ba"
   },
   "source": [
    "# *Graph visualization with heuristics and  path costs*"
   ]
  },
  {
   "cell_type": "code",
   "execution_count": 18,
   "id": "0a46a49c-ff35-4ef0-a5bd-122cc6e63899",
   "metadata": {
    "colab": {
     "base_uri": "https://localhost:8080/",
     "height": 651
    },
    "id": "0a46a49c-ff35-4ef0-a5bd-122cc6e63899",
    "outputId": "05bebe71-6b98-41ef-ee73-fc4c1b88f134"
   },
   "outputs": [
    {
     "name": "stdout",
     "output_type": "stream",
     "text": [
      "Warning: When  cdn_resources is 'local' jupyter notebook has issues displaying graphics on chrome/safari. Use cdn_resources='in_line' or cdn_resources='remote' if you have issues viewing graphics in a notebook.\n",
      "./graph.html\n"
     ]
    },
    {
     "name": "stderr",
     "output_type": "stream",
     "text": [
      "C:\\Users\\mfttu\\AppData\\Local\\Temp\\ipykernel_23580\\4132986588.py:4: DeprecationWarning: Importing display from IPython.core.display is deprecated since IPython 7.14, please import from IPython display\n",
      "  from IPython.core.display import display, HTML\n"
     ]
    },
    {
     "data": {
      "text/html": [
       "\n",
       "        <iframe\n",
       "            width=\"100%\"\n",
       "            height=\"600px\"\n",
       "            src=\"./graph.html\"\n",
       "            frameborder=\"0\"\n",
       "            allowfullscreen\n",
       "            \n",
       "        ></iframe>\n",
       "        "
      ],
      "text/plain": [
       "<IPython.lib.display.IFrame at 0x22dbc13da30>"
      ]
     },
     "execution_count": 18,
     "metadata": {},
     "output_type": "execute_result"
    }
   ],
   "source": [
    "from pyvis.network import Network\n",
    "import pandas as pd\n",
    "import networkx as nx\n",
    "from IPython.core.display import display, HTML\n",
    "net=Network(notebook=True)\n",
    "G = nx.Graph()\n",
    "for location in location_data.values.tolist():\n",
    "    loc_label=location[0]+' h(n) = '+str(round(heuristics[location[0]],3))\n",
    "    if location[0]==source[0]:\n",
    "        #net.add_node(location[0],label=str(location[0]),color='blue')\n",
    "        G.add_node(location[0],color=\"green\",label=loc_label)\n",
    "    elif location[0]==goal[0]:\n",
    "        #net.add_node(location[0],label=str(location[0]),color='green')\n",
    "        G.add_node(location[0],color=\"red\",label=loc_label)\n",
    "    else:\n",
    "        #net.add_node(location[0],label=str(location[0]))\n",
    "        G.add_node(location[0],label=loc_label)\n",
    "\n",
    "for location in location_graph.values.tolist():\n",
    "    locationA,locationB=location[0],location[1]\n",
    "    G.add_edge(locationA,locationB,weight=float(location[2])*10, title=str(location[2]), label=str(round(location[2],5))+'KM')\n",
    "    #G[locationA][locationB]['weight']=str(location[2])\n",
    "    #net.add_edge(locationA,locationB,value=str(location[2]),title=str(location[2])+' KM')\n",
    "net.from_nx(G,show_edge_weights=True)\n",
    "net.toggle_physics(False)\n",
    "net.show(name='./graph.html',notebook=True)\n",
    "# display(HTML('./graph.html'))   \n"
   ]
  },
  {
   "cell_type": "markdown",
   "id": "e8eb15ce-229c-441c-8a37-87332b55378f",
   "metadata": {
    "id": "e8eb15ce-229c-441c-8a37-87332b55378f"
   },
   "source": [
    "Green Indicates starting position which is in my case 'Organ Lily' and red indicates UAP."
   ]
  },
  {
   "cell_type": "markdown",
   "id": "757cb25f-fdfd-4264-a8ad-598c8a76bd5b",
   "metadata": {
    "id": "757cb25f-fdfd-4264-a8ad-598c8a76bd5b"
   },
   "source": [
    "# *The A * Search Algorithm*\n",
    "\n",
    "The A* search algorithm is a widely used algorithm in artificial intelligence and computer science for finding the shortest path between two points on a graph. It is an extension of the Dijkstra's algorithm, which is a popular algorithm for finding the shortest path between two points in a graph with non-negative edge weights.\n",
    "\n",
    "Here are the steps involved in the A* search algorithm:\n",
    "\n",
    "- Initialize the start node and the goal node.\n",
    "- Create an open set and a closed set. The open set contains nodes that need to be explored, while the closed set contains nodes that have already been explored.\n",
    "- Add the start node to the open set.\n",
    "- While the open set is not empty, do the following:\n",
    "    - Find the node with the lowest f-score in the open set. This node will be the current node.\n",
    "    - If the current node is the goal node, return the path to it.\n",
    "    - Remove the current node from the open set and add it to the closed set.\n",
    "    - For each neighbor of the current node, do the following:\n",
    "        - If the neighbor is in the closed set, skip to the next neighbor.\n",
    "        - If the neighbor is not in the open set, add it to the open set and set its parent to the current node. Compute its g-score and h-score.\n",
    "        - If the neighbor is already in the open set, check if the new g-score is lower than the existing g-score. If it is, update the neighbor's parent and g-score.\n",
    "- If the open set is empty and the goal node has not been reached, return failure.\n",
    "\n",
    "\n",
    "The f-score of a node is the sum of its g-score (the cost of getting to that node from the start node) and its h-score (an estimate of the cost of getting from that node to the goal node). The h-score is typically computed using a heuristic function that estimates the distance between the current node and the goal node."
   ]
  },
  {
   "cell_type": "code",
   "execution_count": 19,
   "id": "d148c4c0-9f23-40a8-9551-5a9997647dcf",
   "metadata": {
    "id": "d148c4c0-9f23-40a8-9551-5a9997647dcf"
   },
   "outputs": [],
   "source": [
    "from collections import defaultdict\n",
    "import heapq\n",
    "score_graph=defaultdict(int)\n",
    "def a_star_algorithm(edges:dict[str],\n",
    "                     heuristic:dict[str],\n",
    "                     source:str,\n",
    "                     goal:str)->list[int]:\n",
    "  \n",
    "    '''\n",
    "    A star search algorithm\n",
    "    takes in edges,heuristic,source and goal \n",
    "    returns list and optimal cost\n",
    "    if nothing is found then returns a empty list\n",
    "    '''\n",
    "    g_score=defaultdict(lambda:float('Inf'))\n",
    "    f_score=defaultdict(lambda:float('Inf'))\n",
    "    in_the_fringe=defaultdict(lambda:False)\n",
    "\n",
    "    f_score[source]=heuristic[source]\n",
    "    g_score[source]=0\n",
    "    open_fringe=[(f_score[source],source)]\n",
    "    path=defaultdict(lambda:False)\n",
    "    close_fringe=[]\n",
    "\n",
    "    path_found=False\n",
    "    \n",
    "    \n",
    "    optimal_cost=0\n",
    "    while len(open_fringe)>0:\n",
    "        \n",
    "        _,node=heapq.heappop(open_fringe)\n",
    "        \n",
    "        if node==goal:\n",
    "            path_found=True\n",
    "            break\n",
    "        if node in edges:\n",
    "            for adjacent in edges[node]:\n",
    "            \n",
    "                adjacent_node,cost_to_adjacent=adjacent\n",
    "                if g_score[node]+cost_to_adjacent<g_score[adjacent_node]:\n",
    "                    g_score[adjacent_node]=g_score[node]+cost_to_adjacent\n",
    "                    score_graph[(adjacent_node,node)]=cost_to_adjacent\n",
    "                    \n",
    "                    f_score[adjacent_node]=g_score[adjacent_node]+heuristic[adjacent_node]\n",
    "                    path[adjacent_node]=node\n",
    "                    \n",
    "                    adjacent_data=str(adjacent_node)+str(f_score[adjacent_node])\n",
    "                    if adjacent_data not in in_the_fringe:\n",
    "                        in_the_fringe[adjacent_data]=True\n",
    "                        heapq.heappush(open_fringe,(f_score[adjacent_node],adjacent_node))\n",
    "        \n",
    "        #print(f\"{node}: {open_fringe}\")\n",
    "    \n",
    "    if path_found:\n",
    "        total_path=[]\n",
    "        source=goal\n",
    "        total_path.append(goal)\n",
    "        while path[source]:\n",
    "            optimal_cost+=score_graph[(source,path[source])]\n",
    "            source=path[source]\n",
    "            total_path.append(source)\n",
    "        total_path.reverse()\n",
    "        return total_path,optimal_cost\n",
    "    else:\n",
    "        return []"
   ]
  },
  {
   "cell_type": "markdown",
   "id": "71062077-5113-4bbb-b9ad-5762c8b36cdd",
   "metadata": {
    "id": "71062077-5113-4bbb-b9ad-5762c8b36cdd"
   },
   "source": [
    "***Let us see our graph as python dictionary***"
   ]
  },
  {
   "cell_type": "code",
   "execution_count": 20,
   "id": "039edd0c-c4bb-4201-ba95-9d7cd5efe323",
   "metadata": {
    "colab": {
     "base_uri": "https://localhost:8080/"
    },
    "id": "039edd0c-c4bb-4201-ba95-9d7cd5efe323",
    "outputId": "6efb4a8c-bbe0-4a4b-d69c-73fc00fa07bd"
   },
   "outputs": [
    {
     "data": {
      "text/plain": [
       "{'Organ Lily': [('Shewrapara', 1.1657375229274665),\n",
       "  ('Kamal Sarani', 1.3529079354871336)],\n",
       " 'Shewrapara': [('Agargaon', 1.2841500686079175)],\n",
       " 'Agargaon': [('Chandrima Uddan', 1.50979314681242)],\n",
       " 'Chandrima Uddan': [('Khamar Bari', 0.7054088572099919),\n",
       "  ('Bijoy Sarani', 0.5930516249772503)],\n",
       " 'Khamar Bari': [('Farmgate', 0.6518919580040842)],\n",
       " 'Bijoy Sarani': [('Farmgate', 0.7542073013508552)],\n",
       " 'Farmgate': [('University of Asia Pacific', 0.3250216409379184)],\n",
       " 'Kamal Sarani': [('National Museum', 0.7847256846643799)],\n",
       " 'National Museum': [('Sher-e-Bangla Road', 0.8065672061887167)],\n",
       " 'Sher-e-Bangla Road': [('Chandrima Uddan', 1.4302531679306827)]}"
      ]
     },
     "execution_count": 20,
     "metadata": {},
     "output_type": "execute_result"
    }
   ],
   "source": [
    "graph"
   ]
  },
  {
   "cell_type": "markdown",
   "id": "c20cd6b8-70d0-4479-9a75-31cb64911ce0",
   "metadata": {
    "id": "c20cd6b8-70d0-4479-9a75-31cb64911ce0"
   },
   "source": [
    "***Heurisitics***"
   ]
  },
  {
   "cell_type": "code",
   "execution_count": 21,
   "id": "024c1c0d-e50a-4648-b272-0498e8513276",
   "metadata": {
    "colab": {
     "base_uri": "https://localhost:8080/"
    },
    "id": "024c1c0d-e50a-4648-b272-0498e8513276",
    "outputId": "3d3125ef-0be4-4e62-edd6-8a2c9b98977b"
   },
   "outputs": [
    {
     "data": {
      "text/plain": [
       "{'Organ Lily': 5.211021625426437,\n",
       " 'Shewrapara': 4.06288787306962,\n",
       " 'Agargaon': 2.778856717736909,\n",
       " 'Chandrima Uddan': 1.2937189139764316,\n",
       " 'Khamar Bari': 0.6854378233183538,\n",
       " 'Bijoy Sarani': 1.0468513809502136,\n",
       " 'Farmgate': 0.3250216409379184,\n",
       " 'Kamal Sarani': 4.192905233157257,\n",
       " 'National Museum': 3.491658511492129,\n",
       " 'Sher-e-Bangla Road': 2.7069978872491887,\n",
       " 'University of Asia Pacific': 0.0}"
      ]
     },
     "execution_count": 21,
     "metadata": {},
     "output_type": "execute_result"
    }
   ],
   "source": [
    "heuristics"
   ]
  },
  {
   "cell_type": "markdown",
   "id": "8a36264f-77aa-4b86-832a-d0a78cec745f",
   "metadata": {
    "id": "8a36264f-77aa-4b86-832a-d0a78cec745f"
   },
   "source": [
    "***Goal Node***"
   ]
  },
  {
   "cell_type": "code",
   "execution_count": 22,
   "id": "550c5762-8dfb-48fa-a144-66f0ac3a06cd",
   "metadata": {
    "colab": {
     "base_uri": "https://localhost:8080/"
    },
    "id": "550c5762-8dfb-48fa-a144-66f0ac3a06cd",
    "outputId": "24157dd1-86cf-41fb-e0b6-9d50986b8bdf"
   },
   "outputs": [
    {
     "data": {
      "text/plain": [
       "Location     University of Asia Pacific\n",
       "Latitude                      23.754956\n",
       "Longitude                     90.389039\n",
       "Name: 10, dtype: object"
      ]
     },
     "execution_count": 22,
     "metadata": {},
     "output_type": "execute_result"
    }
   ],
   "source": [
    "goal"
   ]
  },
  {
   "cell_type": "markdown",
   "id": "e50d662d-e2a1-4f14-b3e2-4789fda9129f",
   "metadata": {
    "id": "e50d662d-e2a1-4f14-b3e2-4789fda9129f"
   },
   "source": [
    "***Starting position***"
   ]
  },
  {
   "cell_type": "code",
   "execution_count": 23,
   "id": "e642c033-7c3a-471d-b21d-c9d662c9bde9",
   "metadata": {
    "colab": {
     "base_uri": "https://localhost:8080/"
    },
    "id": "e642c033-7c3a-471d-b21d-c9d662c9bde9",
    "outputId": "4da63639-a73d-4643-e891-cbe6edf72415"
   },
   "outputs": [
    {
     "data": {
      "text/plain": [
       "Location     Organ Lily\n",
       "Latitude      23.798547\n",
       "Longitude     90.370238\n",
       "Name: 0, dtype: object"
      ]
     },
     "execution_count": 23,
     "metadata": {},
     "output_type": "execute_result"
    }
   ],
   "source": [
    "source"
   ]
  },
  {
   "cell_type": "markdown",
   "id": "1dad78bb-6ce2-490b-ad5a-c1f2117f7e4a",
   "metadata": {
    "id": "1dad78bb-6ce2-490b-ad5a-c1f2117f7e4a"
   },
   "source": [
    "##### Passing  all the data to our a_star_algorithm_function to calculate the shortest path*"
   ]
  },
  {
   "cell_type": "code",
   "execution_count": 24,
   "id": "c4e14315-cf7a-473c-a7b8-6e2428470e3a",
   "metadata": {
    "id": "c4e14315-cf7a-473c-a7b8-6e2428470e3a"
   },
   "outputs": [],
   "source": [
    "path,optimal_cost=a_star_algorithm(graph,heuristics,source[0],goal[0])\n",
    "path_=\"->\".join(path)\n"
   ]
  },
  {
   "cell_type": "code",
   "execution_count": 25,
   "id": "2cc4e032",
   "metadata": {
    "colab": {
     "base_uri": "https://localhost:8080/"
    },
    "id": "2cc4e032",
    "outputId": "61c9679a-5866-411f-eff9-d4558ff87395"
   },
   "outputs": [
    {
     "name": "stdout",
     "output_type": "stream",
     "text": [
      "Path: Organ Lily->Shewrapara->Agargaon->Chandrima Uddan->Bijoy Sarani->Farmgate->University of Asia Pacific\n"
     ]
    }
   ],
   "source": [
    "print(f\"Path: {path_}\")"
   ]
  },
  {
   "cell_type": "code",
   "execution_count": 26,
   "id": "cefebc6d-cc24-420f-88fd-feccabeb35e5",
   "metadata": {
    "colab": {
     "base_uri": "https://localhost:8080/"
    },
    "id": "cefebc6d-cc24-420f-88fd-feccabeb35e5",
    "outputId": "89d9d6a0-3d48-4110-fd96-f08ee502ec86",
    "scrolled": true
   },
   "outputs": [
    {
     "name": "stdout",
     "output_type": "stream",
     "text": [
      "Optimal Cost is : 5.631961305613828 km\n"
     ]
    }
   ],
   "source": [
    "print(f\"Optimal Cost is : {optimal_cost} km\")\n"
   ]
  },
  {
   "cell_type": "markdown",
   "id": "371ff1cb-38f3-4dbb-9e55-e79f8f2d24e8",
   "metadata": {
    "id": "371ff1cb-38f3-4dbb-9e55-e79f8f2d24e8"
   },
   "source": [
    "##### Visualizing the shortest path\n"
   ]
  },
  {
   "cell_type": "code",
   "execution_count": 27,
   "id": "e95b6d00-7847-48de-a5fa-fffae3d72c2b",
   "metadata": {
    "colab": {
     "base_uri": "https://localhost:8080/",
     "height": 675
    },
    "id": "e95b6d00-7847-48de-a5fa-fffae3d72c2b",
    "outputId": "16141237-9547-49fe-c664-366745be22ec"
   },
   "outputs": [
    {
     "name": "stdout",
     "output_type": "stream",
     "text": [
      "Warning: When  cdn_resources is 'local' jupyter notebook has issues displaying graphics on chrome/safari. Use cdn_resources='in_line' or cdn_resources='remote' if you have issues viewing graphics in a notebook.\n",
      "./final_graph.html\n",
      "./final_graph.html\n"
     ]
    },
    {
     "name": "stderr",
     "output_type": "stream",
     "text": [
      "C:\\Users\\mfttu\\AppData\\Local\\Temp\\ipykernel_23580\\737039.py:2: DeprecationWarning: Importing display from IPython.core.display is deprecated since IPython 7.14, please import from IPython display\n",
      "  from IPython.core.display import display, HTML\n"
     ]
    },
    {
     "data": {
      "text/html": [
       "\n",
       "        <iframe\n",
       "            width=\"100%\"\n",
       "            height=\"600px\"\n",
       "            src=\"./final_graph.html\"\n",
       "            frameborder=\"0\"\n",
       "            allowfullscreen\n",
       "            \n",
       "        ></iframe>\n",
       "        "
      ],
      "text/plain": [
       "<IPython.lib.display.IFrame at 0x22dbc673130>"
      ]
     },
     "execution_count": 27,
     "metadata": {},
     "output_type": "execute_result"
    }
   ],
   "source": [
    "from pyvis.network import Network\n",
    "from IPython.core.display import display, HTML\n",
    "net=Network(notebook=True)\n",
    "for location in location_data.values.tolist():\n",
    "    if location[0]==source[0]:\n",
    "        net.add_node(location[0],label=location[0],color=\"green\")\n",
    "    \n",
    "    if location[0]==goal[0]:\n",
    "        net.add_node(location[0],label=location[0],color=\"magenta\")\n",
    "    else:\n",
    "        net.add_node(location[0],label=location[0])\n",
    "for i in range(1,len(path)):\n",
    "    net.add_edge(path[i-1],path[i],color=\"red\")\n",
    "    \n",
    "for location in location_graph.values.tolist():\n",
    "    locationA,locationB=location[0],location[1]\n",
    "    net.add_edge(locationA,locationB)\n",
    "net.show('./final_graph.html')\n",
    "net.show(name='./final_graph.html',notebook=True)\n",
    "# display(HTML('./final_graph.html'))  "
   ]
  },
  {
   "cell_type": "markdown",
   "id": "ecffa03e-97fd-4745-a69a-2961d7230cbd",
   "metadata": {
    "id": "ecffa03e-97fd-4745-a69a-2961d7230cbd"
   },
   "source": [
    "##### More visualization with path cost"
   ]
  },
  {
   "cell_type": "code",
   "execution_count": 28,
   "id": "c01fdada-770d-4b14-9ee9-16d5dacc3e91",
   "metadata": {
    "colab": {
     "base_uri": "https://localhost:8080/",
     "height": 651
    },
    "id": "c01fdada-770d-4b14-9ee9-16d5dacc3e91",
    "outputId": "fe775f49-7f62-4315-daf4-dcaf555c913e"
   },
   "outputs": [
    {
     "name": "stdout",
     "output_type": "stream",
     "text": [
      "Warning: When  cdn_resources is 'local' jupyter notebook has issues displaying graphics on chrome/safari. Use cdn_resources='in_line' or cdn_resources='remote' if you have issues viewing graphics in a notebook.\n",
      "./final_graph.html\n"
     ]
    },
    {
     "name": "stderr",
     "output_type": "stream",
     "text": [
      "C:\\Users\\mfttu\\AppData\\Local\\Temp\\ipykernel_23580\\3602060340.py:2: DeprecationWarning: Importing display from IPython.core.display is deprecated since IPython 7.14, please import from IPython display\n",
      "  from IPython.core.display import display, HTML\n"
     ]
    },
    {
     "data": {
      "text/html": [
       "\n",
       "        <iframe\n",
       "            width=\"100%\"\n",
       "            height=\"600px\"\n",
       "            src=\"./final_graph.html\"\n",
       "            frameborder=\"0\"\n",
       "            allowfullscreen\n",
       "            \n",
       "        ></iframe>\n",
       "        "
      ],
      "text/plain": [
       "<IPython.lib.display.IFrame at 0x22dbc1121c0>"
      ]
     },
     "execution_count": 28,
     "metadata": {},
     "output_type": "execute_result"
    }
   ],
   "source": [
    "from pyvis.network import Network\n",
    "from IPython.core.display import display, HTML\n",
    "net=Network(notebook=True)\n",
    "G = nx.Graph()\n",
    "for location in location_data.values.tolist():\n",
    "    if location[0]==source[0]:\n",
    "        G.add_node(location[0],label=location[0],color=\"green\")\n",
    "    \n",
    "    if location[0]==goal[0]:\n",
    "        G.add_node(location[0],label=location[0],color=\"magenta\")\n",
    "    else:\n",
    "        G.add_node(location[0],label=location[0])\n",
    "    #net.add_node(location[0],label=location[0])\n",
    "for i in range(1,len(path)):\n",
    "    G.add_edge(path[i-1],path[i],color='red',label=str(round(score_graph[(path[i],path[i-1])],5))+' KM')\n",
    "    #net.add_edge(path[i-1],path[i],color=\"red\")\n",
    "    \n",
    "for location in location_graph.values.tolist():\n",
    "    locationA,locationB=location[0],location[1]\n",
    "    G.add_edge(locationA,locationB)\n",
    "    #net.add_edge(locationA,locationB)\n",
    "net.from_nx(G,show_edge_weights=True)\n",
    "net.show(name='./final_graph.html',notebook=True)\n",
    "# display(HTML('./final_graph.html'))  "
   ]
  },
  {
   "cell_type": "code",
   "execution_count": 30,
   "id": "749a3b36-bc05-428d-b3da-0034e1bf4395",
   "metadata": {
    "colab": {
     "base_uri": "https://localhost:8080/"
    },
    "id": "749a3b36-bc05-428d-b3da-0034e1bf4395",
    "outputId": "12111cf5-3fd7-4171-fafe-c5ba8338fbf0"
   },
   "outputs": [
    {
     "name": "stdout",
     "output_type": "stream",
     "text": [
      "Optimal Cost is : 5.631961305613828 km\n"
     ]
    }
   ],
   "source": [
    "print(f\"Optimal Cost is : {optimal_cost} km\")\n"
   ]
  }
 ],
 "metadata": {
  "colab": {
   "provenance": []
  },
  "kernelspec": {
   "display_name": "Python 3 (ipykernel)",
   "language": "python",
   "name": "python3"
  },
  "language_info": {
   "codemirror_mode": {
    "name": "ipython",
    "version": 3
   },
   "file_extension": ".py",
   "mimetype": "text/x-python",
   "name": "python",
   "nbconvert_exporter": "python",
   "pygments_lexer": "ipython3",
   "version": "3.9.12"
  }
 },
 "nbformat": 4,
 "nbformat_minor": 5
}
